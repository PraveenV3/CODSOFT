{
 "cells": [
  {
   "cell_type": "code",
   "execution_count": 3,
   "metadata": {},
   "outputs": [
    {
     "name": "stdout",
     "output_type": "stream",
     "text": [
      "   Wikipedia_movie_ID                                               Plot\n",
      "0            23890098  Shlykov, a hard-working taxi driver and Lyosha...\n",
      "1            31186339  The nation of Panem consists of a wealthy Capi...\n",
      "2            20663735  Poovalli Induchoodan  is sentenced for six yea...\n",
      "3             2231378  The Lemon Drop Kid , a New York City swindler,...\n",
      "4              595909  Seventh-day Adventist Church pastor Michael Ch...\n"
     ]
    }
   ],
   "source": [
    "import pandas as pd\n",
    "\n",
    "# Load plot summaries\n",
    "plot_summaries = pd.read_csv('data/plot_summaries.txt', sep='\\t', header=None, names=['Wikipedia_movie_ID', 'Plot'])\n",
    "print(plot_summaries.head())"
   ]
  },
  {
   "cell_type": "code",
   "execution_count": 4,
   "metadata": {},
   "outputs": [
    {
     "name": "stdout",
     "output_type": "stream",
     "text": [
      "   Wikipedia_movie_ID Freebase_movie_ID  \\\n",
      "0              975900         /m/03vyhn   \n",
      "1             3196793         /m/08yl5d   \n",
      "2            28463795        /m/0crgdbh   \n",
      "3             9363483        /m/0285_cd   \n",
      "4              261236         /m/01mrr1   \n",
      "\n",
      "                                          Movie_name Release_date  \\\n",
      "0                                     Ghosts of Mars   2001-08-24   \n",
      "1  Getting Away with Murder: The JonBenét Ramsey ...   2000-02-16   \n",
      "2                                        Brun bitter         1988   \n",
      "3                                   White Of The Eye         1987   \n",
      "4                                  A Woman in Flames         1983   \n",
      "\n",
      "   Box_office_revenue  Runtime                           Languages  \\\n",
      "0          14010832.0     98.0  {\"/m/02h40lc\": \"English Language\"}   \n",
      "1                 NaN     95.0  {\"/m/02h40lc\": \"English Language\"}   \n",
      "2                 NaN     83.0  {\"/m/05f_3\": \"Norwegian Language\"}   \n",
      "3                 NaN    110.0  {\"/m/02h40lc\": \"English Language\"}   \n",
      "4                 NaN    106.0   {\"/m/04306rv\": \"German Language\"}   \n",
      "\n",
      "                                   Countries  \\\n",
      "0  {\"/m/09c7w0\": \"United States of America\"}   \n",
      "1  {\"/m/09c7w0\": \"United States of America\"}   \n",
      "2                     {\"/m/05b4w\": \"Norway\"}   \n",
      "3             {\"/m/07ssc\": \"United Kingdom\"}   \n",
      "4                    {\"/m/0345h\": \"Germany\"}   \n",
      "\n",
      "                                              Genres  \n",
      "0  {\"/m/01jfsb\": \"Thriller\", \"/m/06n90\": \"Science...  \n",
      "1  {\"/m/02n4kr\": \"Mystery\", \"/m/03bxz7\": \"Biograp...  \n",
      "2  {\"/m/0lsxr\": \"Crime Fiction\", \"/m/07s9rl0\": \"D...  \n",
      "3  {\"/m/01jfsb\": \"Thriller\", \"/m/0glj9q\": \"Erotic...  \n",
      "4                            {\"/m/07s9rl0\": \"Drama\"}  \n"
     ]
    }
   ],
   "source": [
    "# Load metadata\n",
    "metadata = pd.read_csv('data/movie.metadata.tsv', sep='\\t', header=None, names=[\n",
    "    'Wikipedia_movie_ID', 'Freebase_movie_ID', 'Movie_name', 'Release_date', \n",
    "    'Box_office_revenue', 'Runtime', 'Languages', 'Countries', 'Genres'\n",
    "])\n",
    "print(metadata.head())"
   ]
  },
  {
   "cell_type": "code",
   "execution_count": 5,
   "metadata": {},
   "outputs": [
    {
     "name": "stdout",
     "output_type": "stream",
     "text": [
      "   Wikipedia_movie_ID                                               Plot  \\\n",
      "0            23890098  Shlykov, a hard-working taxi driver and Lyosha...   \n",
      "1            31186339  The nation of Panem consists of a wealthy Capi...   \n",
      "2            20663735  Poovalli Induchoodan  is sentenced for six yea...   \n",
      "3             2231378  The Lemon Drop Kid , a New York City swindler,...   \n",
      "4              595909  Seventh-day Adventist Church pastor Michael Ch...   \n",
      "\n",
      "  Freebase_movie_ID          Movie_name Release_date  Box_office_revenue  \\\n",
      "0        /m/076w2lb          Taxi Blues   1990-09-07                 NaN   \n",
      "1        /m/0gkz15s    The Hunger Games   2012-03-12         686533290.0   \n",
      "2        /m/051zjwb          Narasimham         2000                 NaN   \n",
      "3         /m/06xtz3  The Lemon Drop Kid   1951-03-08           2300000.0   \n",
      "4         /m/02tqm5   A Cry in the Dark   1988-11-03           6908797.0   \n",
      "\n",
      "   Runtime                           Languages  \\\n",
      "0    110.0    {\"/m/06b_j\": \"Russian Language\"}   \n",
      "1    142.0  {\"/m/02h40lc\": \"English Language\"}   \n",
      "2    175.0  {\"/m/0999q\": \"Malayalam Language\"}   \n",
      "3     91.0  {\"/m/02h40lc\": \"English Language\"}   \n",
      "4    121.0  {\"/m/02h40lc\": \"English Language\"}   \n",
      "\n",
      "                                           Countries  \\\n",
      "0  {\"/m/0f8l9c\": \"France\", \"/m/05vz3zq\": \"Soviet ...   \n",
      "1          {\"/m/09c7w0\": \"United States of America\"}   \n",
      "2                              {\"/m/03rk0\": \"India\"}   \n",
      "3          {\"/m/09c7w0\": \"United States of America\"}   \n",
      "4  {\"/m/09c7w0\": \"United States of America\", \"/m/...   \n",
      "\n",
      "                                              Genres  \n",
      "0  {\"/m/07s9rl0\": \"Drama\", \"/m/03q4nz\": \"World ci...  \n",
      "1  {\"/m/03btsm8\": \"Action/Adventure\", \"/m/06n90\":...  \n",
      "2  {\"/m/04t36\": \"Musical\", \"/m/02kdv5l\": \"Action\"...  \n",
      "3  {\"/m/06qm3\": \"Screwball comedy\", \"/m/01z4y\": \"...  \n",
      "4  {\"/m/0lsxr\": \"Crime Fiction\", \"/m/07s9rl0\": \"D...  \n"
     ]
    }
   ],
   "source": [
    "# Merge datasets\n",
    "merged_data = pd.merge(plot_summaries, metadata, on='Wikipedia_movie_ID')\n",
    "print(merged_data.head())"
   ]
  },
  {
   "cell_type": "code",
   "execution_count": 6,
   "metadata": {},
   "outputs": [
    {
     "name": "stdout",
     "output_type": "stream",
     "text": [
      "   Wikipedia_movie_ID                                               Plot  \\\n",
      "0            23890098  Shlykov, a hard-working taxi driver and Lyosha...   \n",
      "0            23890098  Shlykov, a hard-working taxi driver and Lyosha...   \n",
      "1            31186339  The nation of Panem consists of a wealthy Capi...   \n",
      "1            31186339  The nation of Panem consists of a wealthy Capi...   \n",
      "1            31186339  The nation of Panem consists of a wealthy Capi...   \n",
      "\n",
      "  Freebase_movie_ID        Movie_name Release_date  Box_office_revenue  \\\n",
      "0        /m/076w2lb        Taxi Blues   1990-09-07                 NaN   \n",
      "0        /m/076w2lb        Taxi Blues   1990-09-07                 NaN   \n",
      "1        /m/0gkz15s  The Hunger Games   2012-03-12         686533290.0   \n",
      "1        /m/0gkz15s  The Hunger Games   2012-03-12         686533290.0   \n",
      "1        /m/0gkz15s  The Hunger Games   2012-03-12         686533290.0   \n",
      "\n",
      "   Runtime                           Languages  \\\n",
      "0    110.0    {\"/m/06b_j\": \"Russian Language\"}   \n",
      "0    110.0    {\"/m/06b_j\": \"Russian Language\"}   \n",
      "1    142.0  {\"/m/02h40lc\": \"English Language\"}   \n",
      "1    142.0  {\"/m/02h40lc\": \"English Language\"}   \n",
      "1    142.0  {\"/m/02h40lc\": \"English Language\"}   \n",
      "\n",
      "                                           Countries Genres  \n",
      "0  {\"/m/0f8l9c\": \"France\", \"/m/05vz3zq\": \"Soviet ...      m  \n",
      "0  {\"/m/0f8l9c\": \"France\", \"/m/05vz3zq\": \"Soviet ...      m  \n",
      "1          {\"/m/09c7w0\": \"United States of America\"}      m  \n",
      "1          {\"/m/09c7w0\": \"United States of America\"}      m  \n",
      "1          {\"/m/09c7w0\": \"United States of America\"}      m  \n"
     ]
    }
   ],
   "source": [
    "import ast\n",
    "\n",
    "# Parse the Genres column\n",
    "merged_data['Genres'] = merged_data['Genres'].apply(ast.literal_eval)\n",
    "merged_data['Genres'] = merged_data['Genres'].apply(lambda x: [genre[1] for genre in x])\n",
    "\n",
    "# Explode the Genres column into multiple rows\n",
    "exploded_data = merged_data.explode('Genres')\n",
    "print(exploded_data.head())"
   ]
  },
  {
   "cell_type": "code",
   "execution_count": 7,
   "metadata": {},
   "outputs": [
    {
     "name": "stdout",
     "output_type": "stream",
     "text": [
      "   Wikipedia_movie_ID                                               Plot  \\\n",
      "0            23890098  Shlykov, a hard-working taxi driver and Lyosha...   \n",
      "0            23890098  Shlykov, a hard-working taxi driver and Lyosha...   \n",
      "1            31186339  The nation of Panem consists of a wealthy Capi...   \n",
      "1            31186339  The nation of Panem consists of a wealthy Capi...   \n",
      "1            31186339  The nation of Panem consists of a wealthy Capi...   \n",
      "\n",
      "  Freebase_movie_ID        Movie_name Release_date  Box_office_revenue  \\\n",
      "0        /m/076w2lb        Taxi Blues   1990-09-07                 NaN   \n",
      "0        /m/076w2lb        Taxi Blues   1990-09-07                 NaN   \n",
      "1        /m/0gkz15s  The Hunger Games   2012-03-12         686533290.0   \n",
      "1        /m/0gkz15s  The Hunger Games   2012-03-12         686533290.0   \n",
      "1        /m/0gkz15s  The Hunger Games   2012-03-12         686533290.0   \n",
      "\n",
      "   Runtime                           Languages  \\\n",
      "0    110.0    {\"/m/06b_j\": \"Russian Language\"}   \n",
      "0    110.0    {\"/m/06b_j\": \"Russian Language\"}   \n",
      "1    142.0  {\"/m/02h40lc\": \"English Language\"}   \n",
      "1    142.0  {\"/m/02h40lc\": \"English Language\"}   \n",
      "1    142.0  {\"/m/02h40lc\": \"English Language\"}   \n",
      "\n",
      "                                           Countries Genres  \n",
      "0  {\"/m/0f8l9c\": \"France\", \"/m/05vz3zq\": \"Soviet ...      m  \n",
      "0  {\"/m/0f8l9c\": \"France\", \"/m/05vz3zq\": \"Soviet ...      m  \n",
      "1          {\"/m/09c7w0\": \"United States of America\"}      m  \n",
      "1          {\"/m/09c7w0\": \"United States of America\"}      m  \n",
      "1          {\"/m/09c7w0\": \"United States of America\"}      m  \n"
     ]
    }
   ],
   "source": [
    "# Drop rows with missing values\n",
    "cleaned_data = exploded_data.dropna(subset=['Plot', 'Genres'])\n",
    "print(cleaned_data.head())"
   ]
  }
 ],
 "metadata": {
  "kernelspec": {
   "display_name": "Python 3",
   "language": "python",
   "name": "python3"
  },
  "language_info": {
   "codemirror_mode": {
    "name": "ipython",
    "version": 3
   },
   "file_extension": ".py",
   "mimetype": "text/x-python",
   "name": "python",
   "nbconvert_exporter": "python",
   "pygments_lexer": "ipython3",
   "version": "3.11.9"
  }
 },
 "nbformat": 4,
 "nbformat_minor": 2
}
