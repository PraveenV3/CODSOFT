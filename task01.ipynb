{
  "nbformat": 4,
  "nbformat_minor": 0,
  "metadata": {
    "colab": {
      "provenance": [],
      "mount_file_id": "121D14N7v8LpfwQ6Uk-W0lBNC4KAa4Leq",
      "authorship_tag": "ABX9TyP0TcBrfQ/BK6jKWl5jhky9",
      "include_colab_link": true
    },
    "kernelspec": {
      "name": "python3",
      "display_name": "Python 3"
    },
    "language_info": {
      "name": "python"
    }
  },
  "cells": [
    {
      "cell_type": "markdown",
      "metadata": {
        "id": "view-in-github",
        "colab_type": "text"
      },
      "source": [
        "<a href=\"https://colab.research.google.com/github/PraveenV3/CODSOFT/blob/main/task01.ipynb\" target=\"_parent\"><img src=\"https://colab.research.google.com/assets/colab-badge.svg\" alt=\"Open In Colab\"/></a>"
      ]
    },
    {
      "cell_type": "code",
      "execution_count": null,
      "metadata": {
        "id": "-ICF9YG2-4PT",
        "colab": {
          "base_uri": "https://localhost:8080/"
        },
        "outputId": "bf657173-6df2-4ecb-b7df-f5328e5c374e"
      },
      "outputs": [
        {
          "output_type": "stream",
          "name": "stdout",
          "text": [
            "Requirement already satisfied: pandas in /usr/local/lib/python3.11/dist-packages (2.2.2)\n",
            "Requirement already satisfied: numpy in /usr/local/lib/python3.11/dist-packages (1.26.4)\n",
            "Requirement already satisfied: scikit-learn in /usr/local/lib/python3.11/dist-packages (1.6.1)\n",
            "Requirement already satisfied: nltk in /usr/local/lib/python3.11/dist-packages (3.9.1)\n",
            "Requirement already satisfied: python-dateutil>=2.8.2 in /usr/local/lib/python3.11/dist-packages (from pandas) (2.8.2)\n",
            "Requirement already satisfied: pytz>=2020.1 in /usr/local/lib/python3.11/dist-packages (from pandas) (2025.1)\n",
            "Requirement already satisfied: tzdata>=2022.7 in /usr/local/lib/python3.11/dist-packages (from pandas) (2025.1)\n",
            "Requirement already satisfied: scipy>=1.6.0 in /usr/local/lib/python3.11/dist-packages (from scikit-learn) (1.13.1)\n",
            "Requirement already satisfied: joblib>=1.2.0 in /usr/local/lib/python3.11/dist-packages (from scikit-learn) (1.4.2)\n",
            "Requirement already satisfied: threadpoolctl>=3.1.0 in /usr/local/lib/python3.11/dist-packages (from scikit-learn) (3.5.0)\n",
            "Requirement already satisfied: click in /usr/local/lib/python3.11/dist-packages (from nltk) (8.1.8)\n",
            "Requirement already satisfied: regex>=2021.8.3 in /usr/local/lib/python3.11/dist-packages (from nltk) (2024.11.6)\n",
            "Requirement already satisfied: tqdm in /usr/local/lib/python3.11/dist-packages (from nltk) (4.67.1)\n",
            "Requirement already satisfied: six>=1.5 in /usr/local/lib/python3.11/dist-packages (from python-dateutil>=2.8.2->pandas) (1.17.0)\n"
          ]
        }
      ],
      "source": [
        "!pip install pandas numpy scikit-learn nltk"
      ]
    },
    {
      "cell_type": "code",
      "source": [
        "from google.colab import drive\n",
        "drive.mount('/content/drive')\n",
        "import pandas as pd\n",
        "\n",
        "# Load training dataset\n",
        "train_df = pd.read_csv(\"/content/drive/MyDrive/Colab Notebooks/CODESOFT/Task_01/dataset/train_data.txt\", delimiter=\" ::: \", engine=\"python\", names=[\"ID\", \"TITLE\", \"GENRE\", \"DESCRIPTION\"])\n",
        "\n",
        "# Display first few rows\n",
        "print(train_df.head())\n"
      ],
      "metadata": {
        "id": "V8zzoSrlDmHD",
        "colab": {
          "base_uri": "https://localhost:8080/"
        },
        "outputId": "e82772ab-6f5b-4153-cbc5-fc8a28925b3b"
      },
      "execution_count": null,
      "outputs": [
        {
          "output_type": "stream",
          "name": "stdout",
          "text": [
            "Drive already mounted at /content/drive; to attempt to forcibly remount, call drive.mount(\"/content/drive\", force_remount=True).\n",
            "   ID                             TITLE     GENRE  \\\n",
            "0   1      Oscar et la dame rose (2009)     drama   \n",
            "1   2                      Cupid (1997)  thriller   \n",
            "2   3  Young, Wild and Wonderful (1980)     adult   \n",
            "3   4             The Secret Sin (1915)     drama   \n",
            "4   5            The Unrecovered (2007)     drama   \n",
            "\n",
            "                                         DESCRIPTION  \n",
            "0  Listening in to a conversation between his doc...  \n",
            "1  A brother and sister with a past incestuous re...  \n",
            "2  As the bus empties the students for their fiel...  \n",
            "3  To help their unemployed father make ends meet...  \n",
            "4  The film's title refers not only to the un-rec...  \n"
          ]
        }
      ]
    },
    {
      "cell_type": "code",
      "source": [
        "from google.colab import drive\n",
        "drive.mount('/content/drive')\n",
        "import pandas as pd\n",
        "\n",
        "# Load test dataset (No GENRE column)\n",
        "test_df = pd.read_csv(\"/content/drive/MyDrive/Colab Notebooks/CODESOFT/Task_01/dataset/test_data.txt\", delimiter=\" ::: \", engine=\"python\", names=[\"ID\", \"TITLE\", \"DESCRIPTION\"])\n",
        "\n",
        "# Display first few rows\n",
        "print(test_df.head())\n"
      ],
      "metadata": {
        "colab": {
          "base_uri": "https://localhost:8080/"
        },
        "id": "HoMiKLZbOyp6",
        "outputId": "b72c9edf-2f47-490a-cc7a-10d119f9ff28"
      },
      "execution_count": 1,
      "outputs": [
        {
          "output_type": "stream",
          "name": "stdout",
          "text": [
            "Mounted at /content/drive\n",
            "   ID                        TITLE  \\\n",
            "0   1         Edgar's Lunch (1998)   \n",
            "1   2     La guerra de papá (1977)   \n",
            "2   3  Off the Beaten Track (2010)   \n",
            "3   4       Meu Amigo Hindu (2015)   \n",
            "4   5            Er nu zhai (1955)   \n",
            "\n",
            "                                         DESCRIPTION  \n",
            "0  L.R. Brane loves his life - his car, his apart...  \n",
            "1  Spain, March 1964: Quico is a very naughty chi...  \n",
            "2  One year in the life of Albin and his family o...  \n",
            "3  His father has died, he hasn't spoken with his...  \n",
            "4  Before he was known internationally as a marti...  \n"
          ]
        }
      ]
    },
    {
      "cell_type": "markdown",
      "source": [
        "**Data Preprocessing**"
      ],
      "metadata": {
        "id": "yFQg2WaQQS0y"
      }
    },
    {
      "cell_type": "code",
      "source": [
        "!pip install pandas numpy scikit-learn nltk\n",
        "\n",
        "from google.colab import drive\n",
        "drive.mount('/content/drive')\n",
        "import pandas as pd\n",
        "\n",
        "# Load training dataset\n",
        "train_df = pd.read_csv(\"/content/drive/MyDrive/Colab Notebooks/CODESOFT/Task_01/dataset/train_data.txt\", delimiter=\" ::: \", engine=\"python\", names=[\"ID\", \"TITLE\", \"GENRE\", \"DESCRIPTION\"])\n",
        "\n",
        "# Display first few rows of the training dataset\n",
        "print(\"Training Data:\")\n",
        "print(train_df.head())\n",
        "\n",
        "# Load test dataset (No GENRE column)\n",
        "test_df = pd.read_csv(\"/content/drive/MyDrive/Colab Notebooks/CODESOFT/Task_01/dataset/test_data.txt\", delimiter=\" ::: \", engine=\"python\", names=[\"ID\", \"TITLE\", \"DESCRIPTION\"])\n",
        "\n",
        "# Display first few rows of the test dataset\n",
        "print(\"\\nTest Data:\")\n",
        "print(test_df.head())\n",
        "\n",
        "# Check for missing values in the training dataset\n",
        "print(\"\\nMissing Values in Training Data:\")\n",
        "print(train_df.isnull().sum())\n",
        "\n",
        "# Drop rows with missing descriptions from both datasets\n",
        "train_df = train_df.dropna(subset=['DESCRIPTION'])\n",
        "test_df = test_df.dropna(subset=['DESCRIPTION'])"
      ],
      "metadata": {
        "colab": {
          "base_uri": "https://localhost:8080/"
        },
        "id": "dvOyfACTRQ-P",
        "outputId": "5200efcb-da18-4307-ee22-131bb20bfd04"
      },
      "execution_count": 3,
      "outputs": [
        {
          "output_type": "stream",
          "name": "stdout",
          "text": [
            "Requirement already satisfied: pandas in /usr/local/lib/python3.11/dist-packages (2.2.2)\n",
            "Requirement already satisfied: numpy in /usr/local/lib/python3.11/dist-packages (1.26.4)\n",
            "Requirement already satisfied: scikit-learn in /usr/local/lib/python3.11/dist-packages (1.6.1)\n",
            "Requirement already satisfied: nltk in /usr/local/lib/python3.11/dist-packages (3.9.1)\n",
            "Requirement already satisfied: python-dateutil>=2.8.2 in /usr/local/lib/python3.11/dist-packages (from pandas) (2.8.2)\n",
            "Requirement already satisfied: pytz>=2020.1 in /usr/local/lib/python3.11/dist-packages (from pandas) (2025.1)\n",
            "Requirement already satisfied: tzdata>=2022.7 in /usr/local/lib/python3.11/dist-packages (from pandas) (2025.1)\n",
            "Requirement already satisfied: scipy>=1.6.0 in /usr/local/lib/python3.11/dist-packages (from scikit-learn) (1.13.1)\n",
            "Requirement already satisfied: joblib>=1.2.0 in /usr/local/lib/python3.11/dist-packages (from scikit-learn) (1.4.2)\n",
            "Requirement already satisfied: threadpoolctl>=3.1.0 in /usr/local/lib/python3.11/dist-packages (from scikit-learn) (3.5.0)\n",
            "Requirement already satisfied: click in /usr/local/lib/python3.11/dist-packages (from nltk) (8.1.8)\n",
            "Requirement already satisfied: regex>=2021.8.3 in /usr/local/lib/python3.11/dist-packages (from nltk) (2024.11.6)\n",
            "Requirement already satisfied: tqdm in /usr/local/lib/python3.11/dist-packages (from nltk) (4.67.1)\n",
            "Requirement already satisfied: six>=1.5 in /usr/local/lib/python3.11/dist-packages (from python-dateutil>=2.8.2->pandas) (1.17.0)\n",
            "Drive already mounted at /content/drive; to attempt to forcibly remount, call drive.mount(\"/content/drive\", force_remount=True).\n",
            "Training Data:\n",
            "   ID                             TITLE     GENRE  \\\n",
            "0   1      Oscar et la dame rose (2009)     drama   \n",
            "1   2                      Cupid (1997)  thriller   \n",
            "2   3  Young, Wild and Wonderful (1980)     adult   \n",
            "3   4             The Secret Sin (1915)     drama   \n",
            "4   5            The Unrecovered (2007)     drama   \n",
            "\n",
            "                                         DESCRIPTION  \n",
            "0  Listening in to a conversation between his doc...  \n",
            "1  A brother and sister with a past incestuous re...  \n",
            "2  As the bus empties the students for their fiel...  \n",
            "3  To help their unemployed father make ends meet...  \n",
            "4  The film's title refers not only to the un-rec...  \n",
            "\n",
            "Test Data:\n",
            "   ID                        TITLE  \\\n",
            "0   1         Edgar's Lunch (1998)   \n",
            "1   2     La guerra de papá (1977)   \n",
            "2   3  Off the Beaten Track (2010)   \n",
            "3   4       Meu Amigo Hindu (2015)   \n",
            "4   5            Er nu zhai (1955)   \n",
            "\n",
            "                                         DESCRIPTION  \n",
            "0  L.R. Brane loves his life - his car, his apart...  \n",
            "1  Spain, March 1964: Quico is a very naughty chi...  \n",
            "2  One year in the life of Albin and his family o...  \n",
            "3  His father has died, he hasn't spoken with his...  \n",
            "4  Before he was known internationally as a marti...  \n",
            "\n",
            "Missing Values in Training Data:\n",
            "ID             0\n",
            "TITLE          0\n",
            "GENRE          0\n",
            "DESCRIPTION    0\n",
            "dtype: int64\n"
          ]
        }
      ]
    },
    {
      "cell_type": "code",
      "source": [
        "import re\n",
        "import nltk\n",
        "from nltk.corpus import stopwords\n",
        "\n",
        "nltk.download('stopwords')\n",
        "stop_words = set(stopwords.words('english'))\n",
        "\n",
        "def clean_text(text):\n",
        "    text = text.lower()  # Convert to lowercase\n",
        "    text = re.sub(r'\\W', ' ', text)  # Remove special characters\n",
        "    text = re.sub(r'\\s+', ' ', text)  # Remove multiple spaces\n",
        "    text = ' '.join(word for word in text.split() if word not in stop_words)  # Remove stopwords\n",
        "    return text\n",
        "\n",
        "# Apply text cleaning\n",
        "train_df[\"DESCRIPTION_CLEAN\"] = train_df[\"DESCRIPTION\"].apply(clean_text)\n",
        "test_df[\"DESCRIPTION_CLEAN\"] = test_df[\"DESCRIPTION\"].apply(clean_text)"
      ],
      "metadata": {
        "colab": {
          "base_uri": "https://localhost:8080/"
        },
        "id": "uZneRcIZRchE",
        "outputId": "39dd94bb-4e93-47f8-b047-527b50c3be13"
      },
      "execution_count": 4,
      "outputs": [
        {
          "output_type": "stream",
          "name": "stderr",
          "text": [
            "[nltk_data] Downloading package stopwords to /root/nltk_data...\n",
            "[nltk_data]   Unzipping corpora/stopwords.zip.\n"
          ]
        }
      ]
    },
    {
      "cell_type": "markdown",
      "source": [
        "Convert Text into Numerical Features (TF-IDF)**bold text**"
      ],
      "metadata": {
        "id": "MMhgJ30UR2g4"
      }
    },
    {
      "cell_type": "code",
      "source": [
        "from sklearn.feature_extraction.text import TfidfVectorizer\n",
        "\n",
        "vectorizer = TfidfVectorizer(max_features=5000)\n",
        "X = vectorizer.fit_transform(train_df[\"DESCRIPTION_CLEAN\"])  # Convert text to TF-IDF vectors\n",
        "y = train_df[\"GENRE\"]  # Labels (Genres)\n",
        "\n",
        "print(\"Shape of TF-IDF Matrix:\", X.shape)"
      ],
      "metadata": {
        "colab": {
          "base_uri": "https://localhost:8080/"
        },
        "id": "D4VAFbQXRwDR",
        "outputId": "9d0dd4a9-49f7-436d-b40a-557af28abdb0"
      },
      "execution_count": 5,
      "outputs": [
        {
          "output_type": "stream",
          "name": "stdout",
          "text": [
            "Shape of TF-IDF Matrix: (54214, 5000)\n"
          ]
        }
      ]
    },
    {
      "cell_type": "code",
      "source": [
        "from sklearn.model_selection import train_test_split\n",
        "from sklearn.linear_model import LogisticRegression\n",
        "from sklearn.metrics import accuracy_score, classification_report\n",
        "\n",
        "# Split data into training and validation sets (80%-20%)\n",
        "X_train, X_val, y_train, y_val = train_test_split(X, y, test_size=0.2, random_state=42)\n",
        "\n",
        "# Train Logistic Regression model\n",
        "model = LogisticRegression(max_iter=500)\n",
        "model.fit(X_train, y_train)\n",
        "\n",
        "# Predict on validation data\n",
        "y_pred = model.predict(X_val)\n",
        "\n",
        "# Evaluate model performance\n",
        "print(\"Accuracy:\", accuracy_score(y_val, y_pred))\n",
        "print(classification_report(y_val, y_pred))"
      ],
      "metadata": {
        "colab": {
          "base_uri": "https://localhost:8080/"
        },
        "id": "ZE2RYejJStI4",
        "outputId": "f530f072-31d9-4b5a-86b2-278b79ec325f"
      },
      "execution_count": 6,
      "outputs": [
        {
          "output_type": "stream",
          "name": "stdout",
          "text": [
            "Accuracy: 0.5812044637093056\n",
            "              precision    recall  f1-score   support\n",
            "\n",
            "      action       0.50      0.26      0.34       263\n",
            "       adult       0.71      0.22      0.34       112\n",
            "   adventure       0.41      0.12      0.19       139\n",
            "   animation       0.60      0.09      0.15       104\n",
            "   biography       0.00      0.00      0.00        61\n",
            "      comedy       0.52      0.59      0.55      1443\n",
            "       crime       0.20      0.01      0.02       107\n",
            " documentary       0.67      0.84      0.75      2659\n",
            "       drama       0.54      0.78      0.64      2697\n",
            "      family       0.45      0.09      0.15       150\n",
            "     fantasy       0.00      0.00      0.00        74\n",
            "   game-show       0.94      0.42      0.59        40\n",
            "     history       0.00      0.00      0.00        45\n",
            "      horror       0.65      0.56      0.60       431\n",
            "       music       0.65      0.47      0.54       144\n",
            "     musical       0.33      0.02      0.04        50\n",
            "     mystery       1.00      0.02      0.04        56\n",
            "        news       1.00      0.06      0.11        34\n",
            "  reality-tv       0.48      0.19      0.27       192\n",
            "     romance       0.14      0.01      0.01       151\n",
            "      sci-fi       0.60      0.23      0.33       143\n",
            "       short       0.47      0.34      0.39      1045\n",
            "       sport       0.59      0.18      0.28        93\n",
            "   talk-show       0.57      0.16      0.25        81\n",
            "    thriller       0.41      0.15      0.22       309\n",
            "         war       0.00      0.00      0.00        20\n",
            "     western       0.93      0.71      0.81       200\n",
            "\n",
            "    accuracy                           0.58     10843\n",
            "   macro avg       0.50      0.24      0.28     10843\n",
            "weighted avg       0.56      0.58      0.54     10843\n",
            "\n"
          ]
        },
        {
          "output_type": "stream",
          "name": "stderr",
          "text": [
            "/usr/local/lib/python3.11/dist-packages/sklearn/metrics/_classification.py:1565: UndefinedMetricWarning: Precision is ill-defined and being set to 0.0 in labels with no predicted samples. Use `zero_division` parameter to control this behavior.\n",
            "  _warn_prf(average, modifier, f\"{metric.capitalize()} is\", len(result))\n",
            "/usr/local/lib/python3.11/dist-packages/sklearn/metrics/_classification.py:1565: UndefinedMetricWarning: Precision is ill-defined and being set to 0.0 in labels with no predicted samples. Use `zero_division` parameter to control this behavior.\n",
            "  _warn_prf(average, modifier, f\"{metric.capitalize()} is\", len(result))\n",
            "/usr/local/lib/python3.11/dist-packages/sklearn/metrics/_classification.py:1565: UndefinedMetricWarning: Precision is ill-defined and being set to 0.0 in labels with no predicted samples. Use `zero_division` parameter to control this behavior.\n",
            "  _warn_prf(average, modifier, f\"{metric.capitalize()} is\", len(result))\n"
          ]
        }
      ]
    },
    {
      "cell_type": "code",
      "source": [
        "# Convert test descriptions into TF-IDF vectors\n",
        "X_test = vectorizer.transform(test_df[\"DESCRIPTION_CLEAN\"])\n",
        "\n",
        "# Predict genres for test data\n",
        "test_df[\"PREDICTED_GENRE\"] = model.predict(X_test)\n",
        "\n",
        "# Display predictions\n",
        "print(test_df[[\"ID\", \"TITLE\", \"PREDICTED_GENRE\"]])\n"
      ],
      "metadata": {
        "colab": {
          "base_uri": "https://localhost:8080/"
        },
        "id": "eN5awjlqTEzr",
        "outputId": "6a62c739-711b-4f02-ad48-2abf99ef5bfe"
      },
      "execution_count": 7,
      "outputs": [
        {
          "output_type": "stream",
          "name": "stdout",
          "text": [
            "          ID                           TITLE PREDICTED_GENRE\n",
            "0          1            Edgar's Lunch (1998)           drama\n",
            "1          2        La guerra de papá (1977)           drama\n",
            "2          3     Off the Beaten Track (2010)     documentary\n",
            "3          4          Meu Amigo Hindu (2015)           drama\n",
            "4          5               Er nu zhai (1955)           drama\n",
            "...      ...                             ...             ...\n",
            "54195  54196  \"Tales of Light & Dark\" (2013)           drama\n",
            "54196  54197     Der letzte Mohikaner (1965)          action\n",
            "54197  54198             Oliver Twink (2007)          comedy\n",
            "54198  54199               Slipstream (1973)     documentary\n",
            "54199  54200       Curitiba Zero Grau (2010)     documentary\n",
            "\n",
            "[54200 rows x 3 columns]\n"
          ]
        }
      ]
    },
    {
      "cell_type": "markdown",
      "source": [
        "**Save Model and TF-IDF Vectorizer**"
      ],
      "metadata": {
        "id": "6-IQ_cWXTOts"
      }
    },
    {
      "cell_type": "code",
      "source": [
        "import joblib\n",
        "from google.colab import drive\n",
        "import os\n",
        "\n",
        "# Mount Google Drive\n",
        "drive.mount('/content/drive')\n",
        "\n",
        "# Define the save path within your Google Drive\n",
        "save_path = '/content/drive/MyDrive/Colab Notebooks/CODESOFT/Task_01/model/'  # Adjust this path\n",
        "\n",
        "# Create the directory if it doesn't exist\n",
        "os.makedirs(save_path, exist_ok=True)\n",
        "\n",
        "# Save the trained model and vectorizer\n",
        "joblib.dump(model, save_path + 'movie_genre_classifier.pkl')\n",
        "joblib.dump(vectorizer, save_path + 'tfidf_vectorizer.pkl')"
      ],
      "metadata": {
        "id": "iJvUDkvzVdAY",
        "outputId": "172acbc1-bfe8-49f2-e6b0-2f1981e61e02",
        "colab": {
          "base_uri": "https://localhost:8080/"
        }
      },
      "execution_count": 11,
      "outputs": [
        {
          "output_type": "stream",
          "name": "stdout",
          "text": [
            "Drive already mounted at /content/drive; to attempt to forcibly remount, call drive.mount(\"/content/drive\", force_remount=True).\n"
          ]
        },
        {
          "output_type": "execute_result",
          "data": {
            "text/plain": [
              "['/content/drive/MyDrive/Colab Notebooks/CODESOFT/Task_01/model/tfidf_vectorizer.pkl']"
            ]
          },
          "metadata": {},
          "execution_count": 11
        }
      ]
    },
    {
      "cell_type": "markdown",
      "source": [],
      "metadata": {
        "id": "xi7p5uwNVqno"
      }
    },
    {
      "cell_type": "markdown",
      "source": [
        "**Upload to GitHub**"
      ],
      "metadata": {
        "id": "eItI0d4DVt5H"
      }
    },
    {
      "cell_type": "code",
      "source": [
        "from google.colab import auth\n",
        "auth.authenticate_user()\n",
        "\n",
        "!git config --global user.email \"praveenvimd02@gmail.com\"\n",
        "!git config --global user.name \"PraveenV3\""
      ],
      "metadata": {
        "id": "NiHMyoamVvtQ"
      },
      "execution_count": 12,
      "outputs": []
    },
    {
      "cell_type": "code",
      "source": [
        "!git init\n",
        "!git remote add origin https://github.com/PraveenV3/CODSOFT.git"
      ],
      "metadata": {
        "id": "A_s-v8B-WVbo",
        "outputId": "144d38b4-086b-48bb-feaa-14fd2bfdf854",
        "colab": {
          "base_uri": "https://localhost:8080/"
        }
      },
      "execution_count": 13,
      "outputs": [
        {
          "output_type": "stream",
          "name": "stdout",
          "text": [
            "\u001b[33mhint: Using 'master' as the name for the initial branch. This default branch name\u001b[m\n",
            "\u001b[33mhint: is subject to change. To configure the initial branch name to use in all\u001b[m\n",
            "\u001b[33mhint: of your new repositories, which will suppress this warning, call:\u001b[m\n",
            "\u001b[33mhint: \u001b[m\n",
            "\u001b[33mhint: \tgit config --global init.defaultBranch <name>\u001b[m\n",
            "\u001b[33mhint: \u001b[m\n",
            "\u001b[33mhint: Names commonly chosen instead of 'master' are 'main', 'trunk' and\u001b[m\n",
            "\u001b[33mhint: 'development'. The just-created branch can be renamed via this command:\u001b[m\n",
            "\u001b[33mhint: \u001b[m\n",
            "\u001b[33mhint: \tgit branch -m <name>\u001b[m\n",
            "Initialized empty Git repository in /content/.git/\n"
          ]
        }
      ]
    }
  ]
}